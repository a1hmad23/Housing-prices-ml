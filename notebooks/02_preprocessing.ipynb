{
 "cells": [
  {
   "cell_type": "markdown",
   "id": "2dc7a26e-b4ea-4804-8493-c0db3b27da5e",
   "metadata": {
    "jp-MarkdownHeadingCollapsed": true
   },
   "source": [
    "# Load Data"
   ]
  },
  {
   "cell_type": "code",
   "execution_count": 1,
   "id": "c08666df-31af-4a20-9e32-5c2cd9704d00",
   "metadata": {},
   "outputs": [],
   "source": [
    "from pathlib import Path\n",
    "import sys\n",
    "\n",
    "# Go up one folder from the current notebook directory\n",
    "sys.path.append(str(Path().resolve().parent))\n",
    "\n",
    "from src.data_access import load_housing_data"
   ]
  },
  {
   "cell_type": "code",
   "execution_count": 2,
   "id": "7702bdec-e5e8-4f28-a5e9-c819122596a7",
   "metadata": {},
   "outputs": [],
   "source": [
    "train, test = load_housing_data()"
   ]
  },
  {
   "cell_type": "markdown",
   "id": "8e250e3c-bdc3-4860-94c7-6664c8777b78",
   "metadata": {},
   "source": [
    "# Insights from EDA"
   ]
  },
  {
   "cell_type": "markdown",
   "id": "61f36c26-bfe8-433a-a882-7443e26b7483",
   "metadata": {
    "jp-MarkdownHeadingCollapsed": true
   },
   "source": [
    "## Feature Engineering Ideas"
   ]
  },
  {
   "cell_type": "markdown",
   "id": "f970efed-f6cd-46ad-ab8d-87c79a4adbc0",
   "metadata": {},
   "source": [
    "🏠 Size & Area Features\n",
    "\n",
    "TotalSF = TotalBsmtSF + 1stFlrSF + 2ndFlrSF → overall living + basement size.\n",
    "\n",
    "PorchSF = OpenPorchSF + EnclosedPorch + 3SsnPorch + ScreenPorch → one combined porch measure.\n",
    "\n",
    "TotalBaths = FullBath + HalfBath*0.5 + BsmtFullBath + BsmtHalfBath*0.5 → cleaner bathroom measure.\n",
    "\n",
    "BasementPct = TotalBsmtSF / TotalSF → proportion of house that’s basement.\n",
    "\n",
    "LotRatio = GrLivArea / LotArea → density of construction.\n",
    "\n",
    "AvgRoomSize = GrLivArea / TotRmsAbvGrd (even if you drop TotRmsAbvGrd, this ratio is useful).\n",
    "\n",
    "⏳ Time-Based Features\n",
    "\n",
    "Use YrSold as reference:\n",
    "\n",
    "HouseAge = YrSold – YearBuilt → age of the house at sale.\n",
    "\n",
    "RemodAge = YrSold – YearRemodAdd → how long since last remodel.\n",
    "\n",
    "GarageAge = YrSold – GarageYrBlt (clip negatives to 0).\n",
    "\n",
    "IsRemodeled = binary flag if YearBuilt != YearRemodAdd.\n",
    "\n",
    "DecadeBuilt = (YearBuilt // 10) * 10 → bin into decades.\n",
    "\n",
    "🚪 Garage & Basement Features\n",
    "\n",
    "HasGarage = from GarageType / GarageCars > 0.\n",
    "\n",
    "GarageCapacityPerSF = GarageCars / GrLivArea → relative size.\n",
    "\n",
    "FinishedBsmtPct = (TotalBsmtSF - BsmtUnfSF) / TotalBsmtSF → % finished basement.\n",
    "\n",
    "HasBasement = binary if TotalBsmtSF > 0.\n",
    "\n",
    "🏡 Location & Lot Features\n",
    "\n",
    "CornerLot = flag from LotConfig == 'Corner'.\n",
    "\n",
    "LotFrontageRatio = LotFrontage / LotArea → shape measure.\n",
    "\n",
    "Neighborhood_Tier = group neighborhoods by median SalePrice (high/med/low tier).\n",
    "\n",
    "MSSubClass_Category = map MSSubClass codes into meaningful categories (e.g., “1-Story,” “2-Story,” “Split Level”).\n",
    "\n",
    "🔥 Quality / Condition Interactions\n",
    "\n",
    "OverallQualityIndex = combine OverallQual (numeric) + OverallCond (ordinal) → more stable quality measure.\n",
    "\n",
    "ExterScore = mean of ExterQual + ExterCond.\n",
    "\n",
    "GarageScore = mean of GarageQual + GarageCond.\n",
    "\n",
    "KitchenScore = just KitchenQual, or combine with Functional.\n",
    "\n",
    "QualityAgeInteraction = OverallQual * HouseAge → newer but poor-quality vs. older but well-built.\n",
    "\n",
    "⚡ Utility / Convenience Flags\n",
    "\n",
    "HasCentralAir = from CentralAir.\n",
    "\n",
    "Has2ndFlr = binary if 2ndFlrSF > 0.\n",
    "\n",
    "HasPorch = binary if PorchSF > 0.\n",
    "\n",
    "HasWoodDeck = binary if WoodDeckSF > 0.\n",
    "\n",
    "HasMasonryVeneer = binary if MasVnrArea > 0.\n",
    "\n",
    "🎯 Interaction Ideas (cross-bucket)\n",
    "\n",
    "Size × Neighborhood: a big house in a low-value neighborhood doesn’t increase price as much as in a high-value one. Could be modeled with interaction terms.\n",
    "\n",
    "Quality × Area: OverallQual * GrLivArea → large but poor-quality homes might not price the same as smaller but high-quality ones.\n",
    "\n",
    "Condition × YearBuilt: newer homes in “adjacent to positive feature” conditions might be premium."
   ]
  },
  {
   "cell_type": "markdown",
   "id": "2df25c57-6846-4af7-a67d-3386c4c9557e",
   "metadata": {},
   "source": [
    "## Feature Classification and details"
   ]
  },
  {
   "cell_type": "code",
   "execution_count": 12,
   "id": "d696c658-7080-40a6-8ba5-968e62dc6b26",
   "metadata": {},
   "outputs": [],
   "source": [
    "nominal_cols = ['MSSubClass', 'MoSold', 'BldgType', 'MasVnrType', 'GarageType', 'SaleType', 'Condition1',\n",
    "                'Condition2', 'SaleCondition', 'Neighborhood', 'Exterior1st', 'HouseStyle', 'RoofMatl',\n",
    "                'BsmtFinType2', 'RoofStyle', 'BsmtFinType1', 'Heating', 'Foundation', 'LotConfig', 'MSZoning',\n",
    "                'Electrical']\n",
    "\n",
    "collapse_to_binary_cols = ['LowQualFinSF', 'MiscVal', '3SsnPorch', 'PoolArea', 'BsmtFullBath', 'HalfBath',\n",
    "                           'BsmtHalfBath', 'BsmtFinSF2', 'EnclosedPorch', 'ScreenPorch', 'Fence']\n",
    "\n",
    "right_skewed_cols = ['LotArea', 'GrLivArea', 'BsmtUnfSF', 'SalePrice', '1stFlrSF', 'TotalBsmtSF', 'LotFrontage']\n",
    "\n",
    "skewed_and_binary = ['2ndFlrSF', 'OpenPorchSF', 'WoodDeckSF', 'MasVnrArea']\n",
    "\n",
    "drop = ['PoolQC', 'MiscFeature', 'Utilities', 'Id', 'GarageArea', 'TotRmsAbvGrd', 'Alley', 'Exterior2nd']\n",
    "\n",
    "obj_ordinal_cols = ['ExterQual', 'ExterCond', 'BsmtQual', 'BsmtCond', 'HeatingQC', 'KitchenQual', 'FireplaceQu',\n",
    "                    'GarageQual', 'GarageCond', 'Functional', 'LandContour', 'LotShape', 'BsmtExposure',\n",
    "                    'LandSlope', 'GarageFinish', 'PavedDrive']\n",
    "\n",
    "obj_already_binary_cols = ['Street', 'CentralAir']\n",
    "\n",
    "year_cols = ['YearBuilt', 'YearRemodAdd', 'GarageYrBlt', 'YrSold']\n",
    "\n",
    "imabalanced_numerical = {\n",
    "    'KitchenAbvGr': 'collapse to multiple kitches flag.',\n",
    "    'TotRmsAbvGrd': 'join 2 and 3, and 10, 11, 12, 14',\n",
    "    'OverallCond': 'collapsed into poor average good',\n",
    "    'BedroomAbvGr': 'Collapse to 3 bins (Small / Typical / Large) OR drop in favor of TotRmsAbvGrd.',\n",
    "    'GarageCars': 'collapse 4 into 3'\n",
    "}\n",
    "\n",
    "imbalanced_object = {\n",
    "    'Condition1': 'Collapse very rare categories (<= 5 obs) into \"other\"',\n",
    "    'Condition2': 'Collapse into \"Norm\" vs \"Other\"',\n",
    "    'SaleCondition': 'collapse Adjland, alloca, and family into other',\n",
    "    'GarageType': 'collapse less than 10 into other',\n",
    "    'SaleType': 'Collapse less than 10 into other',\n",
    "    'Exterior1st': 'combine less than and combine Wd Sdng and Wd Shng',\n",
    "    'RoofMatl': 'collapse into other all except CompShg and WdShngl',\n",
    "    'RoofStyle': 'keep Gambrel and Hip, collapse others into other',\n",
    "    'Heating': 'keep GasA and GasW, collapse others into other',\n",
    "    'Foundation': 'collapse stone and wood into others',\n",
    "    'Electrical': 'collapse FusP and Mix'\n",
    "}\n",
    "\n",
    "lists_dict = {\n",
    "    \"nominal_cols\": nominal_cols,\n",
    "    \"collapse_to_binary_cols\": collapse_to_binary_cols,\n",
    "    \"right_skewed_cols\": right_skewed_cols,\n",
    "    \"skewed_and_binary\": skewed_and_binary,\n",
    "    \"drop\": drop,\n",
    "    \"obj_ordinal_cols\": obj_ordinal_cols,\n",
    "    \"obj_already_binary_cols\": obj_already_binary_cols,\n",
    "    \"year_cols\": year_cols\n",
    "}"
   ]
  },
  {
   "cell_type": "markdown",
   "id": "bb033904-2469-49a2-87fc-2ad05ec480ee",
   "metadata": {},
   "source": [
    "The cleanest approach is to build a pipeline for each feature bucket (e.g., skewed numeric, ordinal, nominal, year, binary), chaining the relevant steps like imputing, encoding, scaling, or transformations. These pipelines are then combined inside a ColumnTransformer, which applies the right sequence of transformations to each group while keeping the whole preprocessing reproducible and consistent."
   ]
  },
  {
   "cell_type": "markdown",
   "id": "6ba5fdac-501e-4afe-87e2-b5820dcd96e0",
   "metadata": {},
   "source": [
    "# Imputation Column Transformer"
   ]
  },
  {
   "cell_type": "code",
   "execution_count": 22,
   "id": "ae591175-e9a5-41ca-8009-6b6c3a7abcc7",
   "metadata": {},
   "outputs": [],
   "source": [
    "impute_structural_none = [\n",
    "    \"MasVnrType\",\n",
    "    \"GarageType\",\n",
    "    \"BsmtFinType1\", \"BsmtFinType2\",\n",
    "    \"BsmtQual\", \"BsmtCond\", \"BsmtExposure\",\n",
    "    \"FireplaceQu\",\n",
    "    \"GarageQual\", \"GarageCond\", \"GarageFinish\"\n",
    "]\n",
    "\n",
    "impute_mode_fill = [\n",
    "    # Nominal\n",
    "    \"MSSubClass\", \"MoSold\", \"BldgType\", \"SaleType\", \"Condition1\", \"Condition2\",\n",
    "    \"SaleCondition\", \"Neighborhood\", \"Exterior1st\", \"HouseStyle\", \"RoofMatl\",\n",
    "    \"RoofStyle\", \"Heating\", \"Foundation\", \"LotConfig\", \"MSZoning\", \"Electrical\",\n",
    "    # Ordinal\n",
    "    \"ExterQual\", \"ExterCond\", \"HeatingQC\", \"KitchenQual\",\n",
    "    \"Functional\", \"LandContour\", \"LotShape\", \"LandSlope\", \"PavedDrive\"\n",
    "]\n",
    "\n",
    "impute_zero_fill = [\n",
    "    \"2ndFlrSF\", \"OpenPorchSF\", \"WoodDeckSF\", \"MasVnrArea\",\n",
    "    \"LowQualFinSF\", \"MiscVal\", \"3SsnPorch\", \"PoolArea\",\n",
    "    \"BsmtFullBath\", \"HalfBath\", \"BsmtHalfBath\",\n",
    "    \"BsmtFinSF2\", \"EnclosedPorch\", \"ScreenPorch\", \"Fence\"\n",
    "]\n",
    "\n",
    "impute_median_fill = [\n",
    "    \"LotArea\", \"GrLivArea\", \"BsmtUnfSF\", \"1stFlrSF\",\n",
    "    \"TotalBsmtSF\", \"LotFrontage\"\n",
    "]\n",
    "\n",
    "impute_year_cols = [\"YearBuilt\", \"YearRemodAdd\", \"GarageYrBlt\", \"YrSold\"]"
   ]
  },
  {
   "cell_type": "code",
   "execution_count": 75,
   "id": "63b7c524-63a5-49f4-8e02-f8dff2f3eb9d",
   "metadata": {},
   "outputs": [],
   "source": [
    "from sklearn.impute import SimpleImputer\n",
    "from sklearn.compose import ColumnTransformer\n",
    "\n",
    "imputer = ColumnTransformer(\n",
    "    transformers=[\n",
    "        ('none_imputer', SimpleImputer(strategy='constant', fill_value='None'), impute_structural_none),\n",
    "        ('mode_imputer', SimpleImputer(strategy='most_frequent'), impute_mode_fill),\n",
    "        ('zero_imputer', SimpleImputer(strategy='constant', fill_value=0), impute_zero_fill),\n",
    "        ('median_imputer', SimpleImputer(strategy='median'), impute_median_fill + impute_year_cols)\n",
    "    ]\n",
    ").set_output(transform='pandas')"
   ]
  },
  {
   "cell_type": "markdown",
   "id": "61cbc465-a99a-46dd-9468-824b6362382f",
   "metadata": {},
   "source": [
    "# Nominal Pipeline"
   ]
  },
  {
   "cell_type": "code",
   "execution_count": 73,
   "id": "39f59401-070e-4e7c-9f58-a0778ffd2e9f",
   "metadata": {},
   "outputs": [],
   "source": [
    "from sklearn.base import TransformerMixin, BaseEstimator\n",
    "\n",
    "class CollapseRareCategories(TransformerMixin, BaseEstimator):\n",
    "    def __init__(self, cols=nominal_cols, threshold=10):\n",
    "        self.cols = cols\n",
    "        self.threshold = threshold\n",
    "        self.to_transform_ = {}\n",
    "        self.feature_names_in_ = None\n",
    "\n",
    "    def fit(self, X, y=None):\n",
    "        # Record input feature names\n",
    "        self.feature_names_in_ = X.columns if isinstance(X, pd.DataFrame) else np.arange(X.shape[1])\n",
    "        \n",
    "        for feature in self.cols:\n",
    "            counts = X[feature].value_counts()\n",
    "            rare_cats = counts[counts < self.threshold].index.tolist()\n",
    "            self.to_transform_[feature] = rare_cats\n",
    "        return self\n",
    "\n",
    "    def transform(self, X, y=None):\n",
    "        X_copy = X.copy()\n",
    "        \n",
    "        for feature, rare_cats in self.to_transform_.items():\n",
    "            if pd.api.types.is_numeric_dtype(X_copy[feature]):\n",
    "                X_copy[feature] = X_copy[feature].astype(\"object\")\n",
    "            X_copy.loc[X_copy[feature].isin(rare_cats), feature] = \"Other\"\n",
    "        return X_copy\n",
    "\n",
    "    def get_feature_names_out(self, input_features=None):\n",
    "        # Return the original features unchanged (collapse doesn't expand features)\n",
    "        if input_features is None:\n",
    "            return np.array(self.feature_names_in_)\n",
    "        return np.array(input_features)"
   ]
  },
  {
   "cell_type": "markdown",
   "id": "8fec69d0-76bc-4c96-ae1b-84f47d9a9aeb",
   "metadata": {},
   "source": [
    "from sklearn.base import TransformerMixin, BaseEstimator\n",
    "\n",
    "class collapse_rare_categories(TransformerMixin, BaseEstimator):\n",
    "    def __init__(self, cols, threshold=10):\n",
    "        self.threshold = threshold\n",
    "        self.counts = {}\n",
    "        self.to_transform_ = {}\n",
    "        self.cols = cols\n",
    "\n",
    "    def fit(self, X, y=None):\n",
    "        for feature in X[self.cols].columns:\n",
    "            count = X[feature].value_counts()\n",
    "            self.counts[feature] = {cat: count for (cat, count) in zip(count.index, count.values)}\n",
    "    \n",
    "        for feature_name, cat_count_dict in counts.items():\n",
    "            self.to_transform[feature_name] = []\n",
    "            for cat, count in cat_count_dict.items():\n",
    "                if count < 10:\n",
    "                    self.to_transform[feature_name].append(cat)\n",
    "\n",
    "    def transform(self, X, y=None):\n",
    "        for feature, cat_list in self.to_transform.items():\n",
    "            if exp[feature].dtype == 'int64':\n",
    "                exp[feature] = exp[feature].astype('object')\n",
    "            for cat in cat_list:\n",
    "                exp.loc[exp[feature] == cat, feature] = 'Other'"
   ]
  },
  {
   "cell_type": "code",
   "execution_count": null,
   "id": "4bf5a6ed-00ae-4c1d-96ff-d2e743e10d1d",
   "metadata": {},
   "outputs": [],
   "source": [
    "from sklearn.pipeline import Pipeline\n",
    "from sklearn.preprocessing import OneHotEncoder\n",
    "\n",
    "nominal_pipeline = Pipeline([\n",
    "    ('collapse', CollapseRareCategories()),\n",
    "    ('one_hot', OneHotEncoder(handle_unknown='ignore'))\n",
    "])"
   ]
  },
  {
   "cell_type": "markdown",
   "id": "fece2650-ef93-4b6b-a27d-4b767329f73b",
   "metadata": {},
   "source": [
    "# Binary Pipeline"
   ]
  },
  {
   "cell_type": "code",
   "execution_count": null,
   "id": "15e60e3c-e93c-42ee-b263-8a12f08bc6e9",
   "metadata": {},
   "outputs": [],
   "source": []
  },
  {
   "cell_type": "code",
   "execution_count": null,
   "id": "ea1518e5-8083-446d-9606-5a3c523c8fe7",
   "metadata": {},
   "outputs": [],
   "source": []
  }
 ],
 "metadata": {
  "kernelspec": {
   "display_name": "housing-prices",
   "language": "python",
   "name": "housing-prices"
  },
  "language_info": {
   "codemirror_mode": {
    "name": "ipython",
    "version": 3
   },
   "file_extension": ".py",
   "mimetype": "text/x-python",
   "name": "python",
   "nbconvert_exporter": "python",
   "pygments_lexer": "ipython3",
   "version": "3.13.5"
  }
 },
 "nbformat": 4,
 "nbformat_minor": 5
}
